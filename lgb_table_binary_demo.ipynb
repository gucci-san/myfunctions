{
 "cells": [
  {
   "cell_type": "markdown",
   "metadata": {},
   "source": [
    "## lgb, binary, テーブルデータ"
   ]
  },
  {
   "cell_type": "markdown",
   "metadata": {},
   "source": [
    "### データ読み込み"
   ]
  },
  {
   "cell_type": "code",
   "execution_count": 1,
   "metadata": {},
   "outputs": [
    {
     "name": "stderr",
     "output_type": "stream",
     "text": [
      "/tmp/ipykernel_45260/2919541427.py:2: FutureWarning: The frame.append method is deprecated and will be removed from pandas in a future version. Use pandas.concat instead.\n",
      "  df = pd.read_csv(\"/mnt/sdb/SIGNATE_DATA/liver-disease-detection/train.csv\").append(pd.read_csv(\"/mnt/sdb/SIGNATE_DATA/liver-disease-detection/test.csv\"))\n"
     ]
    }
   ],
   "source": [
    "import pandas as pd\n",
    "df = pd.read_csv(\"/mnt/sdb/SIGNATE_DATA/liver-disease-detection/train.csv\").append(pd.read_csv(\"/mnt/sdb/SIGNATE_DATA/liver-disease-detection/test.csv\"))"
   ]
  },
  {
   "cell_type": "code",
   "execution_count": 2,
   "metadata": {},
   "outputs": [],
   "source": [
    "df = df.reset_index(drop=False)\n",
    "df.rename(columns={\"disease\": \"target\"}, inplace=True)\n",
    "\n",
    "df[\"Gender\"] = df[\"Gender\"].map(lambda x: {\"Male\":1, \"Female\":0}[x])"
   ]
  },
  {
   "cell_type": "code",
   "execution_count": 3,
   "metadata": {},
   "outputs": [
    {
     "data": {
      "text/html": [
       "<div>\n",
       "<style scoped>\n",
       "    .dataframe tbody tr th:only-of-type {\n",
       "        vertical-align: middle;\n",
       "    }\n",
       "\n",
       "    .dataframe tbody tr th {\n",
       "        vertical-align: top;\n",
       "    }\n",
       "\n",
       "    .dataframe thead th {\n",
       "        text-align: right;\n",
       "    }\n",
       "</style>\n",
       "<table border=\"1\" class=\"dataframe\">\n",
       "  <thead>\n",
       "    <tr style=\"text-align: right;\">\n",
       "      <th></th>\n",
       "      <th>index</th>\n",
       "      <th>Age</th>\n",
       "      <th>Gender</th>\n",
       "      <th>T_Bil</th>\n",
       "      <th>D_Bil</th>\n",
       "      <th>ALP</th>\n",
       "      <th>ALT_GPT</th>\n",
       "      <th>AST_GOT</th>\n",
       "      <th>TP</th>\n",
       "      <th>Alb</th>\n",
       "      <th>AG_ratio</th>\n",
       "      <th>target</th>\n",
       "    </tr>\n",
       "  </thead>\n",
       "  <tbody>\n",
       "    <tr>\n",
       "      <th>0</th>\n",
       "      <td>0</td>\n",
       "      <td>59</td>\n",
       "      <td>1</td>\n",
       "      <td>0.786886</td>\n",
       "      <td>0.150498</td>\n",
       "      <td>220.178691</td>\n",
       "      <td>13.467617</td>\n",
       "      <td>21.729246</td>\n",
       "      <td>6.815731</td>\n",
       "      <td>3.112276</td>\n",
       "      <td>1.006802</td>\n",
       "      <td>0.0</td>\n",
       "    </tr>\n",
       "    <tr>\n",
       "      <th>1</th>\n",
       "      <td>1</td>\n",
       "      <td>69</td>\n",
       "      <td>1</td>\n",
       "      <td>1.003987</td>\n",
       "      <td>0.195625</td>\n",
       "      <td>221.218413</td>\n",
       "      <td>51.033462</td>\n",
       "      <td>64.752323</td>\n",
       "      <td>6.889608</td>\n",
       "      <td>3.051521</td>\n",
       "      <td>0.751346</td>\n",
       "      <td>1.0</td>\n",
       "    </tr>\n",
       "    <tr>\n",
       "      <th>2</th>\n",
       "      <td>2</td>\n",
       "      <td>65</td>\n",
       "      <td>1</td>\n",
       "      <td>0.657140</td>\n",
       "      <td>0.081287</td>\n",
       "      <td>320.770533</td>\n",
       "      <td>12.625011</td>\n",
       "      <td>30.613180</td>\n",
       "      <td>5.947767</td>\n",
       "      <td>2.489167</td>\n",
       "      <td>0.774952</td>\n",
       "      <td>0.0</td>\n",
       "    </tr>\n",
       "    <tr>\n",
       "      <th>3</th>\n",
       "      <td>3</td>\n",
       "      <td>65</td>\n",
       "      <td>1</td>\n",
       "      <td>0.906822</td>\n",
       "      <td>0.214173</td>\n",
       "      <td>369.278160</td>\n",
       "      <td>34.347597</td>\n",
       "      <td>54.510085</td>\n",
       "      <td>6.967183</td>\n",
       "      <td>3.613837</td>\n",
       "      <td>0.988155</td>\n",
       "      <td>1.0</td>\n",
       "    </tr>\n",
       "    <tr>\n",
       "      <th>4</th>\n",
       "      <td>4</td>\n",
       "      <td>22</td>\n",
       "      <td>0</td>\n",
       "      <td>1.734959</td>\n",
       "      <td>0.197706</td>\n",
       "      <td>222.782025</td>\n",
       "      <td>20.572891</td>\n",
       "      <td>170.010177</td>\n",
       "      <td>5.837537</td>\n",
       "      <td>3.068697</td>\n",
       "      <td>1.026654</td>\n",
       "      <td>0.0</td>\n",
       "    </tr>\n",
       "    <tr>\n",
       "      <th>...</th>\n",
       "      <td>...</td>\n",
       "      <td>...</td>\n",
       "      <td>...</td>\n",
       "      <td>...</td>\n",
       "      <td>...</td>\n",
       "      <td>...</td>\n",
       "      <td>...</td>\n",
       "      <td>...</td>\n",
       "      <td>...</td>\n",
       "      <td>...</td>\n",
       "      <td>...</td>\n",
       "      <td>...</td>\n",
       "    </tr>\n",
       "    <tr>\n",
       "      <th>1195</th>\n",
       "      <td>345</td>\n",
       "      <td>65</td>\n",
       "      <td>0</td>\n",
       "      <td>0.913867</td>\n",
       "      <td>0.120555</td>\n",
       "      <td>214.354728</td>\n",
       "      <td>16.964820</td>\n",
       "      <td>28.723677</td>\n",
       "      <td>6.960649</td>\n",
       "      <td>3.505619</td>\n",
       "      <td>1.224655</td>\n",
       "      <td>NaN</td>\n",
       "    </tr>\n",
       "    <tr>\n",
       "      <th>1196</th>\n",
       "      <td>346</td>\n",
       "      <td>59</td>\n",
       "      <td>1</td>\n",
       "      <td>0.818573</td>\n",
       "      <td>0.206075</td>\n",
       "      <td>215.898729</td>\n",
       "      <td>14.733461</td>\n",
       "      <td>20.470517</td>\n",
       "      <td>7.531071</td>\n",
       "      <td>3.637508</td>\n",
       "      <td>1.282833</td>\n",
       "      <td>NaN</td>\n",
       "    </tr>\n",
       "    <tr>\n",
       "      <th>1197</th>\n",
       "      <td>347</td>\n",
       "      <td>25</td>\n",
       "      <td>1</td>\n",
       "      <td>0.787054</td>\n",
       "      <td>0.186129</td>\n",
       "      <td>214.167523</td>\n",
       "      <td>14.936585</td>\n",
       "      <td>20.589993</td>\n",
       "      <td>7.505128</td>\n",
       "      <td>3.619033</td>\n",
       "      <td>1.287256</td>\n",
       "      <td>NaN</td>\n",
       "    </tr>\n",
       "    <tr>\n",
       "      <th>1198</th>\n",
       "      <td>348</td>\n",
       "      <td>64</td>\n",
       "      <td>1</td>\n",
       "      <td>0.725194</td>\n",
       "      <td>0.191307</td>\n",
       "      <td>220.272862</td>\n",
       "      <td>17.532595</td>\n",
       "      <td>48.115014</td>\n",
       "      <td>7.559414</td>\n",
       "      <td>3.635871</td>\n",
       "      <td>1.263348</td>\n",
       "      <td>NaN</td>\n",
       "    </tr>\n",
       "    <tr>\n",
       "      <th>1199</th>\n",
       "      <td>349</td>\n",
       "      <td>57</td>\n",
       "      <td>1</td>\n",
       "      <td>0.869632</td>\n",
       "      <td>0.236444</td>\n",
       "      <td>367.364415</td>\n",
       "      <td>23.534291</td>\n",
       "      <td>48.729618</td>\n",
       "      <td>7.537565</td>\n",
       "      <td>3.629533</td>\n",
       "      <td>1.285716</td>\n",
       "      <td>NaN</td>\n",
       "    </tr>\n",
       "  </tbody>\n",
       "</table>\n",
       "<p>1200 rows × 12 columns</p>\n",
       "</div>"
      ],
      "text/plain": [
       "      index  Age  Gender     T_Bil     D_Bil         ALP    ALT_GPT  \\\n",
       "0         0   59       1  0.786886  0.150498  220.178691  13.467617   \n",
       "1         1   69       1  1.003987  0.195625  221.218413  51.033462   \n",
       "2         2   65       1  0.657140  0.081287  320.770533  12.625011   \n",
       "3         3   65       1  0.906822  0.214173  369.278160  34.347597   \n",
       "4         4   22       0  1.734959  0.197706  222.782025  20.572891   \n",
       "...     ...  ...     ...       ...       ...         ...        ...   \n",
       "1195    345   65       0  0.913867  0.120555  214.354728  16.964820   \n",
       "1196    346   59       1  0.818573  0.206075  215.898729  14.733461   \n",
       "1197    347   25       1  0.787054  0.186129  214.167523  14.936585   \n",
       "1198    348   64       1  0.725194  0.191307  220.272862  17.532595   \n",
       "1199    349   57       1  0.869632  0.236444  367.364415  23.534291   \n",
       "\n",
       "         AST_GOT        TP       Alb  AG_ratio  target  \n",
       "0      21.729246  6.815731  3.112276  1.006802     0.0  \n",
       "1      64.752323  6.889608  3.051521  0.751346     1.0  \n",
       "2      30.613180  5.947767  2.489167  0.774952     0.0  \n",
       "3      54.510085  6.967183  3.613837  0.988155     1.0  \n",
       "4     170.010177  5.837537  3.068697  1.026654     0.0  \n",
       "...          ...       ...       ...       ...     ...  \n",
       "1195   28.723677  6.960649  3.505619  1.224655     NaN  \n",
       "1196   20.470517  7.531071  3.637508  1.282833     NaN  \n",
       "1197   20.589993  7.505128  3.619033  1.287256     NaN  \n",
       "1198   48.115014  7.559414  3.635871  1.263348     NaN  \n",
       "1199   48.729618  7.537565  3.629533  1.285716     NaN  \n",
       "\n",
       "[1200 rows x 12 columns]"
      ]
     },
     "execution_count": 3,
     "metadata": {},
     "output_type": "execute_result"
    }
   ],
   "source": [
    "df"
   ]
  },
  {
   "cell_type": "code",
   "execution_count": 4,
   "metadata": {},
   "outputs": [],
   "source": [
    "train = df.iloc[0:850, :]\n",
    "test = df.iloc[850:, :]"
   ]
  },
  {
   "cell_type": "code",
   "execution_count": 5,
   "metadata": {},
   "outputs": [
    {
     "name": "stderr",
     "output_type": "stream",
     "text": [
      "/home/marimo/poetry_projects/myfunctions/myutils.py:60: SyntaxWarning: 'str' object is not callable; perhaps you missed a comma?\n",
      "  print(\"%s - done in %is\"(title, (datetime.datetime.now() - t0).seconds))\n"
     ]
    },
    {
     "name": "stdout",
     "output_type": "stream",
     "text": [
      "\u001b[32m*** id_name:index // label_name:target\n",
      "\u001b[32m*** Seed_no_torch *** \u001b[39m\n"
     ]
    }
   ],
   "source": [
    "from myutils import *"
   ]
  },
  {
   "cell_type": "code",
   "execution_count": 6,
   "metadata": {},
   "outputs": [],
   "source": [
    "lgb_config = {\n",
    "    'lgb_params':{\n",
    "                  'objective' : 'binary',\n",
    "                  'metric' : 'binary_logloss',\n",
    "                  'boosting': 'dart',\n",
    "                  'max_depth' : -1,\n",
    "                  'num_leaves' : 64,\n",
    "                  'learning_rate' : 0.035,\n",
    "                  'bagging_freq': 5,\n",
    "                  'bagging_fraction' : 0.75,\n",
    "                  'feature_fraction' : 0.05,\n",
    "                  'min_data_in_leaf': 256,\n",
    "                  'max_bin': 63,\n",
    "                  'min_data_in_bin': 256,\n",
    "                  'tree_learner': 'serial',\n",
    "                  'boost_from_average': 'false',\n",
    "                  'lambda_l1' : 0.1,\n",
    "                  'lambda_l2' : 30,\n",
    "                  'num_threads': 24,\n",
    "                  'verbosity' : 1,\n",
    "    },\n",
    "    'feature_name':[col for col in df.columns if col not in [\"target\"]],\n",
    "    'rounds':1,\n",
    "    'early_stopping_rounds':None,\n",
    "    'verbose_eval':50,\n",
    "    'folds':5,\n",
    "    'seed':args.seed\n",
    "}"
   ]
  },
  {
   "cell_type": "code",
   "execution_count": 7,
   "metadata": {},
   "outputs": [
    {
     "name": "stderr",
     "output_type": "stream",
     "text": [
      "/home/marimo/poetry_projects/myfunctions/myutils.py:60: SyntaxWarning: 'str' object is not callable; perhaps you missed a comma?\n",
      "  print(\"%s - done in %is\"(title, (datetime.datetime.now() - t0).seconds))\n",
      "/home/marimo/poetry_projects/myfunctions/myutils.py:60: SyntaxWarning: 'str' object is not callable; perhaps you missed a comma?\n",
      "  print(\"%s - done in %is\"(title, (datetime.datetime.now() - t0).seconds))\n",
      "/home/marimo/poetry_projects/myfunctions/myutils.py:60: SyntaxWarning: 'str' object is not callable; perhaps you missed a comma?\n",
      "  print(\"%s - done in %is\"(title, (datetime.datetime.now() - t0).seconds))\n"
     ]
    },
    {
     "ename": "FileNotFoundError",
     "evalue": "[Errno 2] No such file or directory: './output/tmp'",
     "output_type": "error",
     "traceback": [
      "\u001b[0;31m---------------------------------------------------------------------------\u001b[0m",
      "\u001b[0;31mFileNotFoundError\u001b[0m                         Traceback (most recent call last)",
      "Cell \u001b[0;32mIn [7], line 1\u001b[0m\n\u001b[0;32m----> 1\u001b[0m Lgb_train_and_predict(train, test, lgb_config)\n",
      "File \u001b[0;32m~/poetry_projects/myfunctions/myutils.py:93\u001b[0m, in \u001b[0;36mLgb_train_and_predict\u001b[0;34m(train, test, config, cv, aug, output_root, run_id)\u001b[0m\n\u001b[1;32m     <a href='file:///home/marimo/poetry_projects/myfunctions/myutils.py?line=89'>90</a>\u001b[0m \u001b[39melse\u001b[39;00m:\n\u001b[1;32m     <a href='file:///home/marimo/poetry_projects/myfunctions/myutils.py?line=90'>91</a>\u001b[0m     output_path \u001b[39m=\u001b[39m output_root \u001b[39m+\u001b[39m run_id \u001b[39m+\u001b[39m \u001b[39m\"\u001b[39m\u001b[39m/\u001b[39m\u001b[39m\"\u001b[39m\n\u001b[0;32m---> <a href='file:///home/marimo/poetry_projects/myfunctions/myutils.py?line=92'>93</a>\u001b[0m \u001b[39mif\u001b[39;00m \u001b[39mnot\u001b[39;00m os\u001b[39m.\u001b[39mpath\u001b[39m.\u001b[39mexists(output_path): os\u001b[39m.\u001b[39;49mmkdir(output_path)\n\u001b[1;32m     <a href='file:///home/marimo/poetry_projects/myfunctions/myutils.py?line=94'>95</a>\u001b[0m \u001b[39m# 今使用したコード類をoutputにコピペする --\u001b[39;00m\n\u001b[1;32m     <a href='file:///home/marimo/poetry_projects/myfunctions/myutils.py?line=95'>96</a>\u001b[0m os\u001b[39m.\u001b[39msystem(\u001b[39mf\u001b[39m\u001b[39m\"\u001b[39m\u001b[39mcp ./*.py \u001b[39m\u001b[39m{\u001b[39;00moutput_path\u001b[39m}\u001b[39;00m\u001b[39m\"\u001b[39m)\n",
      "\u001b[0;31mFileNotFoundError\u001b[0m: [Errno 2] No such file or directory: './output/tmp'"
     ]
    }
   ],
   "source": [
    "Lgb_train_and_predict(train, test, lgb_config)"
   ]
  }
 ],
 "metadata": {
  "interpreter": {
   "hash": "ee0e7aebb0448065ffd35173b70f8bcdfc8b28907111648a23626dad26f2b635"
  },
  "kernelspec": {
   "display_name": "Python 3.8.10 ('.venv': poetry)",
   "language": "python",
   "name": "python3"
  },
  "language_info": {
   "codemirror_mode": {
    "name": "ipython",
    "version": 3
   },
   "file_extension": ".py",
   "mimetype": "text/x-python",
   "name": "python",
   "nbconvert_exporter": "python",
   "pygments_lexer": "ipython3",
   "version": "3.8.10"
  },
  "orig_nbformat": 4
 },
 "nbformat": 4,
 "nbformat_minor": 2
}
